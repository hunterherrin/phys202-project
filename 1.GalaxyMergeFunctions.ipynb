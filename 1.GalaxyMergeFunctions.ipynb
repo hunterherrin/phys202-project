{
 "cells": [
  {
   "cell_type": "markdown",
   "metadata": {},
   "source": [
    "#Functions used in my simulation\n",
    "\n",
    "all of the plotting code and simulation data is stored in a text file called gmfunc.py"
   ]
  },
  {
   "cell_type": "code",
   "execution_count": 1,
   "metadata": {
    "collapsed": false
   },
   "outputs": [
    {
     "name": "stderr",
     "output_type": "stream",
     "text": [
      ":0: FutureWarning: IPython widgets are experimental and may change in the future.\n"
     ]
    }
   ],
   "source": [
    "%matplotlib inline\n",
    "from matplotlib import pyplot as plt\n",
    "import numpy as np\n",
    "from scipy.integrate import odeint\n",
    "from IPython.html.widgets import interact, interactive, fixed\n",
    "from IPython.html import widgets\n",
    "from IPython.display import display\n",
    "from IPython.display import Image,HTML,SVG"
   ]
  },
  {
   "cell_type": "markdown",
   "metadata": {},
   "source": [
    "The code below was developed to be able to find solutions to these second order differential equations\n",
    "\n",
    "$$ \\ddot{\\mathbf{r}} = -\\gamma \\left\\{ \\frac{M}{r^3}\\mathbf{r} -\\frac{S}{\\rho^3}\\boldsymbol{\\rho} + \\frac{S}{R^3}\\boldsymbol\\Re \\right\\} $$\n",
    "\n",
    "$$ \\ddot{\\boldsymbol\\Re} = -\\gamma \\frac{M+S}{R^3}\\boldsymbol\\Re$$\n",
    "\n",
    "Since they are second order differential equations, 4 components were needed for each vector. The gamma I have calculated is with Solar units for mass, $10^{8}$ years for time, and kiloparsecs for distance"
   ]
  },
  {
   "cell_type": "code",
   "execution_count": 2,
   "metadata": {
    "collapsed": true
   },
   "outputs": [],
   "source": [
    "\n",
    "gamma=4.4936287*(10**(-8))\n",
    "def derivs(rvec,t,M,S):\n",
    "    rx=rvec[0]\n",
    "    ry=rvec[1]\n",
    "    vx=rvec[2]\n",
    "    vy=rvec[3]\n",
    "    Rx=rvec[4]\n",
    "    Ry=rvec[5]\n",
    "    Vx=rvec[6]\n",
    "    Vy=rvec[7]\n",
    "    \n",
    "    R=np.sqrt(Rx**2+Ry**2)\n",
    "    r=np.sqrt(rx**2+ry**2)\n",
    "    rho = np.sqrt((Rx-rx)**2 + (Ry-ry)**2)\n",
    "    \n",
    "    drx=vx\n",
    "    dry=vy\n",
    "    dvx=-gamma*((M/(r**3))*rx+(S/(R**3))*Rx-(S/(rho**3))*(Rx-rx))\n",
    "    dvy=-gamma*((M/(r**3))*ry+(S/(R**3))*Ry-(S/(rho**3))*(Ry-ry))\n",
    "    dRx=Vx\n",
    "    dRy=Vy\n",
    "    dVx=-gamma*((M+S)/(R**3))*Rx\n",
    "    dVy=-gamma*((M+S)/(R**3))*Ry\n",
    "    return np.array([drx,dry,dvx,dvy,dRx,dRy,dVx,dVy])"
   ]
  },
  {
   "cell_type": "markdown",
   "metadata": {},
   "source": [
    "This code was made to create the intial position and velocity conditions for all of the 120 stars in the simulation. The rmin input is the closest the galaxy S gets to galaxy M, and the s value determins the direction of spin.\n",
    "\n",
    "For counter clockise spin s=1, and for clockwise spin s=-1"
   ]
  },
  {
   "cell_type": "code",
   "execution_count": 3,
   "metadata": {
    "collapsed": true
   },
   "outputs": [],
   "source": [
    "def create_ic_stars(rmin,s):\n",
    "    ics = []\n",
    "    \n",
    "    # loop\n",
    "    for n in range(0,36,1):\n",
    "        vr=np.sqrt(4493.6287/(0.6*rmin))\n",
    "        x=(0.6*rmin*np.cos(np.pi*2*n/36))\n",
    "        y=(0.6*rmin*np.sin(np.pi*2*n/36))\n",
    "        vx=(vr*np.sin(np.pi*2*n/36+np.pi))\n",
    "        vy=(vr*np.cos(np.pi*2*n/36))\n",
    "        ic = np.array([x,y,vx,vy])\n",
    "        ics.append(ic)\n",
    "    for n in range(0,30,1):\n",
    "        vr=np.sqrt(4493.6287/(0.5*rmin))\n",
    "        x=(0.5*rmin*np.cos(np.pi*2*n/30))\n",
    "        y=(0.5*rmin*np.sin(np.pi*2*n/30))\n",
    "        vx=(vr*np.sin(np.pi*2*n/30+np.pi))\n",
    "        vy=(vr*np.cos(np.pi*2*n/30))\n",
    "        ic = np.array([x,y,vx,vy])\n",
    "        ics.append(ic)\n",
    "    for n in range(0,24,1):\n",
    "        vr=np.sqrt(4493.6287/(0.4*rmin))\n",
    "        x=(0.4*rmin*np.cos(np.pi*2*n/24))\n",
    "        y=(0.4*rmin*np.sin(np.pi*2*n/24))\n",
    "        vx=(vr*np.sin(np.pi*2*n/24+np.pi))\n",
    "        vy=(vr*np.cos(np.pi*2*n/24))\n",
    "        ic = np.array([x,y,vx,vy])\n",
    "        ics.append(ic)\n",
    "    for n in range(0,18,1):\n",
    "        vr=np.sqrt(4493.6287/(0.3*rmin))\n",
    "        x=(0.3*rmin*np.cos(np.pi*2*n/18))\n",
    "        y=(0.3*rmin*np.sin(np.pi*2*n/18))\n",
    "        vx=(vr*np.sin(np.pi*2*n/18+np.pi))\n",
    "        vy=(vr*np.cos(np.pi*2*n/18))\n",
    "        ic = np.array([x,y,vx,vy])\n",
    "        ics.append(ic)\n",
    "    for n in range(0,12,1):\n",
    "        vr=np.sqrt(4493.6287/(0.2*rmin))\n",
    "        x=(0.2*rmin*np.cos(np.pi*2*n/12))\n",
    "        y=(0.2*rmin*np.sin(np.pi*2*n/12))\n",
    "        vx=(vr*np.sin(np.pi*2*n/12+np.pi))\n",
    "        vy=(vr*np.cos(np.pi*2*n/12))\n",
    "        ic = np.array([x,y,s*vx,s*vy])\n",
    "        ics.append(ic)\n",
    "\n",
    "    return ics\n"
   ]
  },
  {
   "cell_type": "markdown",
   "metadata": {},
   "source": [
    "This code below is used to create the initial conditions for the S galaxy.\n",
    "\n",
    "Sy is the starting height of galaxy S relative to M (kiloparsecs), rmin is the closest you want S to get to M (kiloparsecs), and M and S are inputs for the mass of each galaxy in solar units.  "
   ]
  },
  {
   "cell_type": "code",
   "execution_count": 5,
   "metadata": {
    "collapsed": true
   },
   "outputs": [],
   "source": [
    "def create_ic_gala(Sy,rmin,M,S):\n",
    "    Sx=-(1/(4*rmin))*Sy**2+rmin\n",
    "    vr=np.sqrt(2*gamma*(M+S)/(np.sqrt(Sx**2+Sy**2)))\n",
    "    angle=np.arctan(2*rmin/Sy)\n",
    "    Vx=vr*np.cos(angle)\n",
    "    Vy=-vr*np.sin(angle)\n",
    "    return np.array([Sx,Sy,Vx,Vy])\n"
   ]
  },
  {
   "cell_type": "markdown",
   "metadata": {},
   "source": [
    "The solve_one_star function takes in the intial conditions of both the galaxy and whatever star you pick, and combines these inputes using np.hstack. This set of intial conditions along with my derivs functions from earlier are then put into odeint which solves for the position and velocities of both the star and galaxy S at the time values selected. Those time values are deteremined by the tmax and ntimes input, which splits your max time(tmax) chosen intoa specific number of division(ntimes), all with equal step sizes."
   ]
  },
  {
   "cell_type": "code",
   "execution_count": null,
   "metadata": {
    "collapsed": true
   },
   "outputs": [],
   "source": [
    "def solve_one_star(ic_star, ic_gala, tmax, ntimes,M,S):\n",
    "    t = np.linspace(0,tmax,ntimes)\n",
    "    ic = np.hstack([ic_star, ic_gala])\n",
    "    soln = odeint(derivs, ic, t,(M,S))\n",
    "    return soln"
   ]
  },
  {
   "cell_type": "markdown",
   "metadata": {},
   "source": [
    "The solve_all_stars functions uses the solve_star_function, but it also iterates through all of the intial conditions provided instead of only one. The initial conditons I used"
   ]
  },
  {
   "cell_type": "code",
   "execution_count": null,
   "metadata": {
    "collapsed": true
   },
   "outputs": [],
   "source": [
    "def solve_all_stars(ic_stars, ic_gala, tmax, ntimes,M,S):\n",
    "    solns = []\n",
    "    for ic_star in ic_stars:\n",
    "        soln = solve_one_star(ic_star, ic_gala, tmax, ntimes,M,S)\n",
    "        solns.append(soln)\n",
    "    return solns\n"
   ]
  }
 ],
 "metadata": {
  "kernelspec": {
   "display_name": "Python 3",
   "language": "python",
   "name": "python3"
  },
  "language_info": {
   "codemirror_mode": {
    "name": "ipython",
    "version": 3
   },
   "file_extension": ".py",
   "mimetype": "text/x-python",
   "name": "python",
   "nbconvert_exporter": "python",
   "pygments_lexer": "ipython3",
   "version": "3.4.0"
  }
 },
 "nbformat": 4,
 "nbformat_minor": 0
}
