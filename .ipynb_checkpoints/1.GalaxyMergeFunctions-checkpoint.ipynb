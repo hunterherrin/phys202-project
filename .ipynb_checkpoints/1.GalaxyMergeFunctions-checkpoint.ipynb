{
 "cells": [
  {
   "cell_type": "code",
   "execution_count": null,
   "metadata": {
    "collapsed": true
   },
   "outputs": [],
   "source": [
    "%matplotlib inline\n",
    "from matplotlib import pyplot as plt\n",
    "import numpy as np\n",
    "from scipy.integrate import odeint\n",
    "from IPython.html.widgets import interact, interactive, fixed\n",
    "from IPython.html import widgets\n",
    "from IPython.display import display\n",
    "from IPython.display import Image,HTML,SVG"
   ]
  },
  {
   "cell_type": "code",
   "execution_count": null,
   "metadata": {
    "collapsed": true
   },
   "outputs": [],
   "source": [
    "\n",
    "gamma=4.4936287*(10**(-8))\n",
    "def derivs(rvec,t,M,S):\n",
    "    rx=rvec[0]\n",
    "    ry=rvec[1]\n",
    "    vx=rvec[2]\n",
    "    vy=rvec[3]\n",
    "    Rx=rvec[4]\n",
    "    Ry=rvec[5]\n",
    "    Vx=rvec[6]\n",
    "    Vy=rvec[7]\n",
    "    \n",
    "    R=np.sqrt(Rx**2+Ry**2)\n",
    "    r=np.sqrt(rx**2+ry**2)\n",
    "    rho = np.sqrt((Rx-rx)**2 + (Ry-ry)**2)\n",
    "    \n",
    "    drx=vx\n",
    "    dry=vy\n",
    "    dvx=-gamma*((M/(r**3))*rx+(S/(R**3))*Rx-(S/(rho**3))*(Rx-rx))\n",
    "    dvy=-gamma*((M/(r**3))*ry+(S/(R**3))*Ry-(S/(rho**3))*(Ry-ry))\n",
    "    dRx=Vx\n",
    "    dRy=Vy\n",
    "    dVx=-gamma*((M+S)/(R**3))*Rx\n",
    "    dVy=-gamma*((M+S)/(R**3))*Ry\n",
    "    return np.array([drx,dry,dvx,dvy,dRx,dRy,dVx,dVy])"
   ]
  },
  {
   "cell_type": "code",
   "execution_count": null,
   "metadata": {
    "collapsed": true
   },
   "outputs": [],
   "source": [
    "def create_ic_stars(rmin,s):\n",
    "    ics = []\n",
    "    \n",
    "    # loop\n",
    "    for n in range(0,36,1):\n",
    "        vr=np.sqrt(4493.6287/(0.6*rmin))\n",
    "        x=(0.6*rmin*np.cos(np.pi*2*n/36))\n",
    "        y=(0.6*rmin*np.sin(np.pi*2*n/36))\n",
    "        vx=(vr*np.sin(np.pi*2*n/36+np.pi))\n",
    "        vy=(vr*np.cos(np.pi*2*n/36))\n",
    "        ic = np.array([x,y,vx,vy])\n",
    "        ics.append(ic)\n",
    "    for n in range(0,30,1):\n",
    "        vr=np.sqrt(4493.6287/(0.5*rmin))\n",
    "        x=(0.5*rmin*np.cos(np.pi*2*n/30))\n",
    "        y=(0.5*rmin*np.sin(np.pi*2*n/30))\n",
    "        vx=(vr*np.sin(np.pi*2*n/30+np.pi))\n",
    "        vy=(vr*np.cos(np.pi*2*n/30))\n",
    "        ic = np.array([x,y,vx,vy])\n",
    "        ics.append(ic)\n",
    "    for n in range(0,24,1):\n",
    "        vr=np.sqrt(4493.6287/(0.4*rmin))\n",
    "        x=(0.4*rmin*np.cos(np.pi*2*n/24))\n",
    "        y=(0.4*rmin*np.sin(np.pi*2*n/24))\n",
    "        vx=(vr*np.sin(np.pi*2*n/24+np.pi))\n",
    "        vy=(vr*np.cos(np.pi*2*n/24))\n",
    "        ic = np.array([x,y,vx,vy])\n",
    "        ics.append(ic)\n",
    "    for n in range(0,18,1):\n",
    "        vr=np.sqrt(4493.6287/(0.3*rmin))\n",
    "        x=(0.3*rmin*np.cos(np.pi*2*n/18))\n",
    "        y=(0.3*rmin*np.sin(np.pi*2*n/18))\n",
    "        vx=(vr*np.sin(np.pi*2*n/18+np.pi))\n",
    "        vy=(vr*np.cos(np.pi*2*n/18))\n",
    "        ic = np.array([x,y,vx,vy])\n",
    "        ics.append(ic)\n",
    "    for n in range(0,12,1):\n",
    "        vr=np.sqrt(4493.6287/(0.2*rmin))\n",
    "        x=(0.2*rmin*np.cos(np.pi*2*n/12))\n",
    "        y=(0.2*rmin*np.sin(np.pi*2*n/12))\n",
    "        vx=(vr*np.sin(np.pi*2*n/12+np.pi))\n",
    "        vy=(vr*np.cos(np.pi*2*n/12))\n",
    "        ic = np.array([x,y,s*vx,s*vy])\n",
    "        ics.append(ic)\n",
    "\n",
    "    return ics\n"
   ]
  },
  {
   "cell_type": "code",
   "execution_count": null,
   "metadata": {
    "collapsed": true
   },
   "outputs": [],
   "source": [
    "def create_ic_gala(Sy,rmin,M,S):\n",
    "    Sx=-(1/(4*rmin))*Sy**2+rmin\n",
    "    vr=np.sqrt(2*gamma*(M+S)/(np.sqrt(Sx**2+Sy**2)))\n",
    "    angle=np.arctan(2*rmin/Sy)\n",
    "    Vx=vr*np.cos(angle)\n",
    "    Vy=-vr*np.sin(angle)\n",
    "    return np.array([Sx,Sy,Vx,Vy])\n"
   ]
  },
  {
   "cell_type": "code",
   "execution_count": null,
   "metadata": {
    "collapsed": true
   },
   "outputs": [],
   "source": [
    "def solve_one_star(ic_star, ic_gala, tmax, ntimes,M,S):\n",
    "    t = np.linspace(0,tmax,ntimes)\n",
    "    ic = np.hstack([ic_star, ic_gala])\n",
    "    soln = odeint(derivs, ic, t,(M,S))\n",
    "    return soln"
   ]
  },
  {
   "cell_type": "code",
   "execution_count": null,
   "metadata": {
    "collapsed": true
   },
   "outputs": [],
   "source": [
    "def solve_all_stars(ic_stars, ic_gala, tmax, ntimes,M,S):\n",
    "    solns = []\n",
    "    for ic_star in ic_stars:\n",
    "        soln = solve_one_star(ic_star, ic_gala, tmax, ntimes,M,S)\n",
    "        solns.append(soln)\n",
    "    return solns\n"
   ]
  }
 ],
 "metadata": {
  "kernelspec": {
   "display_name": "Python 3",
   "language": "python",
   "name": "python3"
  },
  "language_info": {
   "codemirror_mode": {
    "name": "ipython",
    "version": 3
   },
   "file_extension": ".py",
   "mimetype": "text/x-python",
   "name": "python",
   "nbconvert_exporter": "python",
   "pygments_lexer": "ipython3",
   "version": "3.4.0"
  }
 },
 "nbformat": 4,
 "nbformat_minor": 0
}
